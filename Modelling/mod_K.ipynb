{
 "cells": [
  {
   "cell_type": "code",
   "execution_count": 81,
   "metadata": {},
   "outputs": [],
   "source": [
    "import pandas as pd\n",
    "import numpy as np\n",
    "import sklearn \n",
    "import seaborn as sns\n",
    "import matplotlib.pyplot as plt\n",
    "import warnings\n",
    "from sklearn.model_selection import train_test_split\n",
    "warnings.filterwarnings('ignore')\n",
    "np.random.seed(23)\n",
    "pd.set_option('display.max_columns', None)"
   ]
  },
  {
   "cell_type": "code",
   "execution_count": 82,
   "metadata": {},
   "outputs": [
    {
     "name": "stdout",
     "output_type": "stream",
     "text": [
      "(980, 21)\n"
     ]
    }
   ],
   "source": [
    "mobile_modelling = pd.read_csv('../Data/Data_modelling/mobile_modelling.csv')\n",
    "\n",
    "X = mobile_modelling.iloc[:, 0:-1]\n",
    "y = mobile_modelling.iloc[:, -1]\n",
    "\n",
    "X_train, X_val, y_train, y_val = train_test_split(\n",
    "    X, y, stratify=y, test_size=0.3, random_state=42\n",
    ")\n",
    "X_val, X_test, y_val, y_test = train_test_split(\n",
    "    X_val, y_val, stratify=y_val, test_size=0.3, random_state=42\n",
    ")\n",
    "\n",
    "mobile_df = pd.concat([X_train, y_train], axis=1)\n",
    "\n",
    "print(mobile_df.shape)\n",
    "\n",
    "X_train = mobile_df.iloc[:, 0:-1]\n",
    "y_train = mobile_df.iloc[:, -1]\n",
    "\n"
   ]
  },
  {
   "cell_type": "code",
   "execution_count": 129,
   "metadata": {},
   "outputs": [],
   "source": [
    "mobile_df = mobile_df[mobile_df['px_height'] != 0]\n",
    "\n",
    "mobile_df['mean_sc_w'] = mobile_df.groupby('sc_h')['sc_w'].transform('mean')\n",
    "mobile_df['sc_w'] = np.where(mobile_df['sc_w'] == 0, mobile_df['mean_sc_w'], mobile_df['sc_w'])\n",
    "\n",
    "\n",
    "## sprobowac z mean i bez mean i z usunieciem wierszy !!!!!"
   ]
  },
  {
   "cell_type": "code",
   "execution_count": 115,
   "metadata": {},
   "outputs": [],
   "source": [
    "# more than 0.02\n",
    "columns_to_drop_1 = ['touch_screen', 'blue', 'dual_sim', 'four_g', 'wifi', 'three_g']\n",
    "X_train_1 = X_train.drop(columns=columns_to_drop_1)\n",
    "X_val_1 = X_val.drop(columns=columns_to_drop_1)\n",
    "\n",
    "# more than 0.05\n",
    "columns_to_drop_2 = ['touch_screen', 'blue', 'dual_sim', 'four_g', 'wifi', 'three_g', 'fc', 'n_cores', 'm_dep', 'sc_h', 'clock_speed', 'sc_w', 'pc', 'talk_time', 'int_memory', 'mobile_wt']\n",
    "X_train_2 = X_train.drop(columns=columns_to_drop_2)\n",
    "X_val_2 = X_val.drop(columns=columns_to_drop_2)\n",
    "\n",
    "# just RAM\n",
    "X_train_3 = X_train['ram']\n",
    "X_val_3 = X_val['ram']\n",
    "\n",
    "# from int memory up\n",
    "columns_to_drop_4 = ['touch_screen', 'blue', 'dual_sim', 'four_g', 'wifi', 'three_g', 'fc', 'n_cores', 'm_dep', 'sc_h', 'clock_speed', 'sc_w', 'pc', 'talk_time']\n",
    "X_train_4 = X_train.drop(columns=columns_to_drop_4)\n",
    "X_val_4 = X_val.drop(columns=columns_to_drop_4)\n"
   ]
  },
  {
   "cell_type": "markdown",
   "metadata": {},
   "source": [
    "# dummy"
   ]
  },
  {
   "cell_type": "code",
   "execution_count": 84,
   "metadata": {},
   "outputs": [
    {
     "name": "stdout",
     "output_type": "stream",
     "text": [
      "most_frequent:\n",
      "              precision    recall  f1-score   support\n",
      "\n",
      "           0       0.17      0.18      0.17        73\n",
      "           1       0.29      0.30      0.29        74\n",
      "           2       0.20      0.21      0.20        73\n",
      "           3       0.19      0.18      0.18        74\n",
      "\n",
      "    accuracy                           0.21       294\n",
      "   macro avg       0.21      0.21      0.21       294\n",
      "weighted avg       0.21      0.21      0.21       294\n",
      "\n",
      "stratified:\n",
      "              precision    recall  f1-score   support\n",
      "\n",
      "           0       0.20      0.16      0.18        73\n",
      "           1       0.30      0.28      0.29        74\n",
      "           2       0.25      0.25      0.25        73\n",
      "           3       0.26      0.32      0.29        74\n",
      "\n",
      "    accuracy                           0.26       294\n",
      "   macro avg       0.25      0.25      0.25       294\n",
      "weighted avg       0.25      0.26      0.25       294\n",
      "\n"
     ]
    }
   ],
   "source": [
    "from sklearn.dummy import DummyClassifier\n",
    "from sklearn.metrics import classification_report\n",
    "\n",
    "# IMO DO WYWALENIA BO TO ZASMIECA TYLKO KOD A ACCURACY JEST SMIECHU WARTE\n",
    "\n",
    "dc = DummyClassifier(strategy='uniform')\n",
    "dc.fit(X_train,y_train)\n",
    "y_pred = dc.predict(X_val)\n",
    "print('most_frequent:')\n",
    "print(classification_report(y_val, y_pred))\n",
    "\n",
    "dc = DummyClassifier(strategy='stratified')\n",
    "dc.fit(X_train,y_train)\n",
    "y_pred = dc.predict(X_val)\n",
    "print('stratified:')\n",
    "print(classification_report(y_val, y_pred))"
   ]
  },
  {
   "cell_type": "markdown",
   "metadata": {},
   "source": [
    "# logistic regression"
   ]
  },
  {
   "cell_type": "code",
   "execution_count": 85,
   "metadata": {},
   "outputs": [
    {
     "name": "stdout",
     "output_type": "stream",
     "text": [
      "              precision    recall  f1-score   support\n",
      "\n",
      "           0       0.25      0.26      0.25        73\n",
      "           1       0.29      0.24      0.26        74\n",
      "           2       0.28      0.32      0.29        73\n",
      "           3       0.25      0.24      0.25        74\n",
      "\n",
      "    accuracy                           0.27       294\n",
      "   macro avg       0.27      0.27      0.26       294\n",
      "weighted avg       0.27      0.27      0.26       294\n",
      "\n"
     ]
    }
   ],
   "source": [
    "# Create one-vs-rest logistic regression instance\n",
    "from sklearn.linear_model import LogisticRegression\n",
    "\n",
    "model = LogisticRegression(multi_class=\"ovr\")\n",
    "\n",
    "# Train the model\n",
    "model.fit(X_train, y_train)\n",
    "y_pred = dc.predict(X_val)\n",
    "\n",
    "print(classification_report(y_val, y_pred))"
   ]
  },
  {
   "cell_type": "code",
   "execution_count": 86,
   "metadata": {},
   "outputs": [
    {
     "name": "stdout",
     "output_type": "stream",
     "text": [
      "              precision    recall  f1-score   support\n",
      "\n",
      "           0       0.24      0.27      0.25        73\n",
      "           1       0.17      0.16      0.17        74\n",
      "           2       0.26      0.26      0.26        73\n",
      "           3       0.22      0.20      0.21        74\n",
      "\n",
      "    accuracy                           0.22       294\n",
      "   macro avg       0.22      0.22      0.22       294\n",
      "weighted avg       0.22      0.22      0.22       294\n",
      "\n"
     ]
    }
   ],
   "source": [
    "model = LogisticRegression(multi_class=\"ovr\")\n",
    "\n",
    "# Train the model\n",
    "model.fit(X_train_1, y_train)\n",
    "y_pred_1 = dc.predict(X_val_1)\n",
    "\n",
    "print(classification_report(y_val, y_pred_1))"
   ]
  },
  {
   "cell_type": "code",
   "execution_count": 87,
   "metadata": {},
   "outputs": [
    {
     "name": "stdout",
     "output_type": "stream",
     "text": [
      "              precision    recall  f1-score   support\n",
      "\n",
      "           0       0.28      0.26      0.27        73\n",
      "           1       0.34      0.31      0.33        74\n",
      "           2       0.24      0.26      0.25        73\n",
      "           3       0.28      0.30      0.29        74\n",
      "\n",
      "    accuracy                           0.28       294\n",
      "   macro avg       0.28      0.28      0.28       294\n",
      "weighted avg       0.28      0.28      0.28       294\n",
      "\n"
     ]
    }
   ],
   "source": [
    "model = LogisticRegression(multi_class=\"ovr\")\n",
    "\n",
    "# Train the model\n",
    "model.fit(X_train_2, y_train)\n",
    "y_pred_2 = dc.predict(X_val_2)\n",
    "\n",
    "print(classification_report(y_val, y_pred_2))"
   ]
  },
  {
   "cell_type": "code",
   "execution_count": 88,
   "metadata": {},
   "outputs": [
    {
     "name": "stdout",
     "output_type": "stream",
     "text": [
      "              precision    recall  f1-score   support\n",
      "\n",
      "           0       0.29      0.27      0.28        73\n",
      "           1       0.24      0.23      0.23        74\n",
      "           2       0.18      0.18      0.18        73\n",
      "           3       0.25      0.28      0.27        74\n",
      "\n",
      "    accuracy                           0.24       294\n",
      "   macro avg       0.24      0.24      0.24       294\n",
      "weighted avg       0.24      0.24      0.24       294\n",
      "\n"
     ]
    }
   ],
   "source": [
    "model = LogisticRegression(multi_class=\"ovr\")\n",
    "\n",
    "# Train the model\n",
    "model.fit( X_train_3.values.reshape(-1, 1), y_train)\n",
    "y_pred_3 = dc.predict(X_val_3)\n",
    "\n",
    "print(classification_report(y_val, y_pred_3))"
   ]
  },
  {
   "cell_type": "markdown",
   "metadata": {},
   "source": [
    "# decision tree"
   ]
  },
  {
   "cell_type": "code",
   "execution_count": 89,
   "metadata": {},
   "outputs": [
    {
     "name": "stdout",
     "output_type": "stream",
     "text": [
      "              precision    recall  f1-score   support\n",
      "\n",
      "           0       0.96      0.88      0.91        73\n",
      "           1       0.73      0.80      0.76        74\n",
      "           2       0.73      0.73      0.73        73\n",
      "           3       0.89      0.88      0.88        74\n",
      "\n",
      "    accuracy                           0.82       294\n",
      "   macro avg       0.83      0.82      0.82       294\n",
      "weighted avg       0.82      0.82      0.82       294\n",
      "\n"
     ]
    }
   ],
   "source": [
    "# all\n",
    "from sklearn.tree import DecisionTreeClassifier,plot_tree #export_graphviz\n",
    "\n",
    "tree = DecisionTreeClassifier()\n",
    "tree.fit(X_train,y_train)\n",
    "y_pred = tree.predict(X_val)\n",
    "print(classification_report(y_val, y_pred))"
   ]
  },
  {
   "cell_type": "code",
   "execution_count": 90,
   "metadata": {},
   "outputs": [
    {
     "name": "stdout",
     "output_type": "stream",
     "text": [
      "              precision    recall  f1-score   support\n",
      "\n",
      "           0       0.94      0.85      0.89        73\n",
      "           1       0.69      0.78      0.73        74\n",
      "           2       0.71      0.71      0.71        73\n",
      "           3       0.89      0.85      0.87        74\n",
      "\n",
      "    accuracy                           0.80       294\n",
      "   macro avg       0.81      0.80      0.80       294\n",
      "weighted avg       0.81      0.80      0.80       294\n",
      "\n"
     ]
    }
   ],
   "source": [
    "# over 0.02\n",
    "tree = DecisionTreeClassifier()\n",
    "tree.fit(X_train_1,y_train)\n",
    "y_pred_1= tree.predict(X_val_1)\n",
    "print(classification_report(y_val, y_pred_1))"
   ]
  },
  {
   "cell_type": "code",
   "execution_count": 91,
   "metadata": {},
   "outputs": [
    {
     "name": "stdout",
     "output_type": "stream",
     "text": [
      "              precision    recall  f1-score   support\n",
      "\n",
      "           0       0.97      0.90      0.94        73\n",
      "           1       0.80      0.86      0.83        74\n",
      "           2       0.77      0.78      0.78        73\n",
      "           3       0.90      0.88      0.89        74\n",
      "\n",
      "    accuracy                           0.86       294\n",
      "   macro avg       0.86      0.86      0.86       294\n",
      "weighted avg       0.86      0.86      0.86       294\n",
      "\n"
     ]
    }
   ],
   "source": [
    "# over 0.05\n",
    "tree = DecisionTreeClassifier()\n",
    "tree.fit(X_train_2,y_train)\n",
    "y_pred_2= tree.predict(X_val_2)\n",
    "print(classification_report(y_val, y_pred_2))"
   ]
  },
  {
   "cell_type": "code",
   "execution_count": 92,
   "metadata": {},
   "outputs": [
    {
     "name": "stdout",
     "output_type": "stream",
     "text": [
      "              precision    recall  f1-score   support\n",
      "\n",
      "           0       0.93      0.92      0.92        73\n",
      "           1       0.81      0.78      0.79        74\n",
      "           2       0.75      0.82      0.78        73\n",
      "           3       0.93      0.88      0.90        74\n",
      "\n",
      "    accuracy                           0.85       294\n",
      "   macro avg       0.85      0.85      0.85       294\n",
      "weighted avg       0.85      0.85      0.85       294\n",
      "\n"
     ]
    }
   ],
   "source": [
    "# from int_memory\n",
    "tree = DecisionTreeClassifier()\n",
    "tree.fit(X_train_4,y_train)\n",
    "y_pred_4= tree.predict(X_val_4)\n",
    "print(classification_report(y_val, y_pred_4))"
   ]
  },
  {
   "cell_type": "code",
   "execution_count": 93,
   "metadata": {},
   "outputs": [
    {
     "name": "stdout",
     "output_type": "stream",
     "text": [
      "              precision    recall  f1-score   support\n",
      "\n",
      "           0       0.78      0.82      0.80        73\n",
      "           1       0.60      0.64      0.62        74\n",
      "           2       0.52      0.49      0.51        73\n",
      "           3       0.74      0.70      0.72        74\n",
      "\n",
      "    accuracy                           0.66       294\n",
      "   macro avg       0.66      0.66      0.66       294\n",
      "weighted avg       0.66      0.66      0.66       294\n",
      "\n"
     ]
    }
   ],
   "source": [
    "# just ram\n",
    "# over 0.02\n",
    "tree = DecisionTreeClassifier()\n",
    "tree.fit(X_train_3.values.reshape(-1, 1), y_train)\n",
    "y_pred_3= tree.predict(X_val_3.values.reshape(-1, 1))\n",
    "print(classification_report(y_val, y_pred_3))"
   ]
  },
  {
   "cell_type": "markdown",
   "metadata": {},
   "source": [
    "# SVM"
   ]
  },
  {
   "cell_type": "code",
   "execution_count": 127,
   "metadata": {},
   "outputs": [
    {
     "name": "stdout",
     "output_type": "stream",
     "text": [
      "              precision    recall  f1-score   support\n",
      "\n",
      "           0       0.99      0.96      0.97        73\n",
      "           1       0.89      0.95      0.92        74\n",
      "           2       0.94      0.88      0.91        73\n",
      "           3       0.96      0.99      0.97        74\n",
      "\n",
      "    accuracy                           0.94       294\n",
      "   macro avg       0.94      0.94      0.94       294\n",
      "weighted avg       0.94      0.94      0.94       294\n",
      "\n"
     ]
    }
   ],
   "source": [
    "from sklearn.svm import SVC\n",
    "svm = SVC()\n",
    "\n",
    "# all\n",
    "svm.fit(X_train,y_train)\n",
    "y_pred = svm.predict(X_val)\n",
    "print(classification_report(y_val, y_pred))"
   ]
  },
  {
   "cell_type": "code",
   "execution_count": 126,
   "metadata": {},
   "outputs": [
    {
     "name": "stdout",
     "output_type": "stream",
     "text": [
      "              precision    recall  f1-score   support\n",
      "\n",
      "           0       0.99      0.96      0.97        73\n",
      "           1       0.89      0.95      0.92        74\n",
      "           2       0.94      0.88      0.91        73\n",
      "           3       0.96      0.99      0.97        74\n",
      "\n",
      "    accuracy                           0.94       294\n",
      "   macro avg       0.94      0.94      0.94       294\n",
      "weighted avg       0.94      0.94      0.94       294\n",
      "\n"
     ]
    }
   ],
   "source": [
    "# over 0.02\n",
    "svm.fit(X_train_1,y_train)\n",
    "y_pred = svm.predict(X_val_1)\n",
    "print(classification_report(y_val, y_pred))"
   ]
  },
  {
   "cell_type": "code",
   "execution_count": 125,
   "metadata": {},
   "outputs": [
    {
     "name": "stdout",
     "output_type": "stream",
     "text": [
      "              precision    recall  f1-score   support\n",
      "\n",
      "           0       1.00      0.97      0.99        73\n",
      "           1       0.94      0.97      0.95        74\n",
      "           2       0.94      0.92      0.93        73\n",
      "           3       0.96      0.97      0.97        74\n",
      "\n",
      "    accuracy                           0.96       294\n",
      "   macro avg       0.96      0.96      0.96       294\n",
      "weighted avg       0.96      0.96      0.96       294\n",
      "\n"
     ]
    }
   ],
   "source": [
    "# over 0.05\n",
    "svm.fit(X_train_2,y_train)\n",
    "y_pred = svm.predict(X_val_2)\n",
    "print(classification_report(y_val, y_pred))"
   ]
  },
  {
   "cell_type": "code",
   "execution_count": 124,
   "metadata": {},
   "outputs": [
    {
     "name": "stdout",
     "output_type": "stream",
     "text": [
      "              precision    recall  f1-score   support\n",
      "\n",
      "           0       0.99      0.96      0.97        73\n",
      "           1       0.91      0.96      0.93        74\n",
      "           2       0.94      0.90      0.92        73\n",
      "           3       0.96      0.97      0.97        74\n",
      "\n",
      "    accuracy                           0.95       294\n",
      "   macro avg       0.95      0.95      0.95       294\n",
      "weighted avg       0.95      0.95      0.95       294\n",
      "\n"
     ]
    }
   ],
   "source": [
    "# from int_memory\n",
    "svm.fit(X_train_4,y_train)\n",
    "y_pred_4 = svm.predict(X_val_4)\n",
    "print(classification_report(y_val, y_pred_4))"
   ]
  },
  {
   "cell_type": "code",
   "execution_count": 123,
   "metadata": {},
   "outputs": [
    {
     "name": "stdout",
     "output_type": "stream",
     "text": [
      "              precision    recall  f1-score   support\n",
      "\n",
      "           0       0.91      0.79      0.85        73\n",
      "           1       0.63      0.73      0.68        74\n",
      "           2       0.61      0.63      0.62        73\n",
      "           3       0.86      0.80      0.83        74\n",
      "\n",
      "    accuracy                           0.74       294\n",
      "   macro avg       0.75      0.74      0.74       294\n",
      "weighted avg       0.75      0.74      0.74       294\n",
      "\n"
     ]
    }
   ],
   "source": [
    "# just ram\n",
    "svm.fit(X_train_3.values.reshape(-1, 1),y_train)\n",
    "y_pred = svm.predict(X_val_3.values.reshape(-1, 1))\n",
    "print(classification_report(y_val, y_pred))"
   ]
  },
  {
   "cell_type": "markdown",
   "metadata": {},
   "source": [
    "# Random Forrest Classifier"
   ]
  },
  {
   "cell_type": "code",
   "execution_count": 130,
   "metadata": {},
   "outputs": [
    {
     "name": "stdout",
     "output_type": "stream",
     "text": [
      "              precision    recall  f1-score   support\n",
      "\n",
      "           0       0.95      0.97      0.96        73\n",
      "           1       0.81      0.80      0.80        74\n",
      "           2       0.75      0.77      0.76        73\n",
      "           3       0.93      0.89      0.91        74\n",
      "\n",
      "    accuracy                           0.86       294\n",
      "   macro avg       0.86      0.86      0.86       294\n",
      "weighted avg       0.86      0.86      0.86       294\n",
      "\n"
     ]
    }
   ],
   "source": [
    "from sklearn.ensemble import RandomForestClassifier\n",
    "# all\n",
    "model = RandomForestClassifier(random_state=42)\n",
    "model.fit(X_train,y_train)\n",
    "y_pred = model.predict(X_val)\n",
    "print(classification_report(y_val, y_pred))"
   ]
  },
  {
   "cell_type": "code",
   "execution_count": 121,
   "metadata": {},
   "outputs": [
    {
     "name": "stdout",
     "output_type": "stream",
     "text": [
      "              precision    recall  f1-score   support\n",
      "\n",
      "           0       0.91      0.95      0.93        73\n",
      "           1       0.78      0.77      0.78        74\n",
      "           2       0.72      0.73      0.72        73\n",
      "           3       0.89      0.85      0.87        74\n",
      "\n",
      "    accuracy                           0.82       294\n",
      "   macro avg       0.82      0.82      0.82       294\n",
      "weighted avg       0.82      0.82      0.82       294\n",
      "\n"
     ]
    }
   ],
   "source": [
    "# over 0.02\n",
    "model = RandomForestClassifier(random_state=42)\n",
    "model.fit(X_train_1,y_train)\n",
    "y_pred_1 = model.predict(X_val_1)\n",
    "print(classification_report(y_val, y_pred_1))"
   ]
  },
  {
   "cell_type": "code",
   "execution_count": 120,
   "metadata": {},
   "outputs": [
    {
     "name": "stdout",
     "output_type": "stream",
     "text": [
      "              precision    recall  f1-score   support\n",
      "\n",
      "           0       0.97      0.95      0.96        73\n",
      "           1       0.85      0.92      0.88        74\n",
      "           2       0.81      0.85      0.83        73\n",
      "           3       0.95      0.85      0.90        74\n",
      "\n",
      "    accuracy                           0.89       294\n",
      "   macro avg       0.90      0.89      0.89       294\n",
      "weighted avg       0.90      0.89      0.89       294\n",
      "\n"
     ]
    }
   ],
   "source": [
    "# over 0.05\n",
    "model = RandomForestClassifier(random_state=42)\n",
    "model.fit(X_train_2,y_train)\n",
    "y_pred_2 = model.predict(X_val_2)\n",
    "print(classification_report(y_val, y_pred_2))"
   ]
  },
  {
   "cell_type": "code",
   "execution_count": 131,
   "metadata": {},
   "outputs": [
    {
     "name": "stdout",
     "output_type": "stream",
     "text": [
      "              precision    recall  f1-score   support\n",
      "\n",
      "           0       0.96      0.93      0.94        73\n",
      "           1       0.85      0.86      0.86        74\n",
      "           2       0.82      0.89      0.86        73\n",
      "           3       0.97      0.91      0.94        74\n",
      "\n",
      "    accuracy                           0.90       294\n",
      "   macro avg       0.90      0.90      0.90       294\n",
      "weighted avg       0.90      0.90      0.90       294\n",
      "\n"
     ]
    }
   ],
   "source": [
    "# from int_memory\n",
    "model = RandomForestClassifier(random_state=42)\n",
    "model.fit(X_train_4,y_train)\n",
    "y_pred_4 = model.predict(X_val_4)\n",
    "print(classification_report(y_val, y_pred_4))"
   ]
  },
  {
   "cell_type": "code",
   "execution_count": 103,
   "metadata": {},
   "outputs": [
    {
     "name": "stdout",
     "output_type": "stream",
     "text": [
      "      px_height  px_width\n",
      "1275        262      1587\n",
      "872        1262      1520\n",
      "1321       1088      1718\n",
      "64          194      1437\n",
      "1070        104       541\n",
      "...         ...       ...\n",
      "32          379       932\n",
      "882         619       867\n",
      "378         491      1506\n",
      "8           192       757\n",
      "934         671      1445\n",
      "\n",
      "[980 rows x 2 columns]\n"
     ]
    },
    {
     "data": {
      "image/png": "[encoded data removed]",
      "text/plain": [
       "<Figure size 640x480 with 1 Axes>"
      ]
     },
     "metadata": {},
     "output_type": "display_data"
    }
   ],
   "source": [
    "unique_pairs = mobile_df[['px_height', 'px_width']].drop_duplicates()\n",
    "\n",
    "# Wyświetl unikatowe pary\n",
    "print(unique_pairs)\n",
    "\n",
    "plt.scatter(mobile_df['px_width'], mobile_df['px_height'])\n",
    "plt.xlabel('px_width')\n",
    "plt.ylabel('px_height')\n",
    "plt.show()"
   ]
  }
 ],
 "metadata": {
  "kernelspec": {
   "display_name": "base",
   "language": "python",
   "name": "python3"
  },
  "language_info": {
   "codemirror_mode": {
    "name": "ipython",
    "version": 3
   },
   "file_extension": ".py",
   "mimetype": "text/x-python",
   "name": "python",
   "nbconvert_exporter": "python",
   "pygments_lexer": "ipython3",
   "version": "3.9.13"
  }
 },
 "nbformat": 4,
 "nbformat_minor": 2
}
