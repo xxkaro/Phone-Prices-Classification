{
 "cells": [
  {
   "cell_type": "code",
   "execution_count": 5,
   "metadata": {},
   "outputs": [],
   "source": [
    "import pandas as pd\n",
    "import numpy as np\n",
    "import sklearn \n",
    "import seaborn as sns\n",
    "import matplotlib.pyplot as plt\n",
    "import warnings\n",
    "from sklearn.model_selection import train_test_split\n",
    "warnings.filterwarnings('ignore')\n",
    "np.random.seed(23)\n",
    "pd.set_option('display.max_columns', None)"
   ]
  },
  {
   "cell_type": "code",
   "execution_count": 47,
   "metadata": {},
   "outputs": [
    {
     "name": "stdout",
     "output_type": "stream",
     "text": [
      "(980, 21)\n"
     ]
    },
    {
     "data": {
      "text/html": [
       "<div>\n",
       "<style scoped>\n",
       "    .dataframe tbody tr th:only-of-type {\n",
       "        vertical-align: middle;\n",
       "    }\n",
       "\n",
       "    .dataframe tbody tr th {\n",
       "        vertical-align: top;\n",
       "    }\n",
       "\n",
       "    .dataframe thead th {\n",
       "        text-align: right;\n",
       "    }\n",
       "</style>\n",
       "<table border=\"1\" class=\"dataframe\">\n",
       "  <thead>\n",
       "    <tr style=\"text-align: right;\">\n",
       "      <th></th>\n",
       "      <th>battery_power</th>\n",
       "      <th>blue</th>\n",
       "      <th>clock_speed</th>\n",
       "      <th>dual_sim</th>\n",
       "      <th>fc</th>\n",
       "      <th>four_g</th>\n",
       "      <th>int_memory</th>\n",
       "      <th>m_dep</th>\n",
       "      <th>mobile_wt</th>\n",
       "      <th>n_cores</th>\n",
       "      <th>pc</th>\n",
       "      <th>px_height</th>\n",
       "      <th>px_width</th>\n",
       "      <th>ram</th>\n",
       "      <th>sc_h</th>\n",
       "      <th>sc_w</th>\n",
       "      <th>talk_time</th>\n",
       "      <th>three_g</th>\n",
       "      <th>touch_screen</th>\n",
       "      <th>wifi</th>\n",
       "    </tr>\n",
       "  </thead>\n",
       "  <tbody>\n",
       "    <tr>\n",
       "      <th>1275</th>\n",
       "      <td>525</td>\n",
       "      <td>1</td>\n",
       "      <td>0.5</td>\n",
       "      <td>1</td>\n",
       "      <td>5</td>\n",
       "      <td>0</td>\n",
       "      <td>51</td>\n",
       "      <td>0.5</td>\n",
       "      <td>137</td>\n",
       "      <td>8</td>\n",
       "      <td>11</td>\n",
       "      <td>262</td>\n",
       "      <td>1587</td>\n",
       "      <td>1891</td>\n",
       "      <td>18</td>\n",
       "      <td>3</td>\n",
       "      <td>12</td>\n",
       "      <td>0</td>\n",
       "      <td>1</td>\n",
       "      <td>0</td>\n",
       "    </tr>\n",
       "    <tr>\n",
       "      <th>872</th>\n",
       "      <td>925</td>\n",
       "      <td>1</td>\n",
       "      <td>2.1</td>\n",
       "      <td>0</td>\n",
       "      <td>9</td>\n",
       "      <td>0</td>\n",
       "      <td>56</td>\n",
       "      <td>0.2</td>\n",
       "      <td>196</td>\n",
       "      <td>1</td>\n",
       "      <td>14</td>\n",
       "      <td>1262</td>\n",
       "      <td>1520</td>\n",
       "      <td>2466</td>\n",
       "      <td>8</td>\n",
       "      <td>0</td>\n",
       "      <td>5</td>\n",
       "      <td>1</td>\n",
       "      <td>0</td>\n",
       "      <td>0</td>\n",
       "    </tr>\n",
       "    <tr>\n",
       "      <th>1321</th>\n",
       "      <td>1076</td>\n",
       "      <td>0</td>\n",
       "      <td>2.3</td>\n",
       "      <td>1</td>\n",
       "      <td>0</td>\n",
       "      <td>1</td>\n",
       "      <td>14</td>\n",
       "      <td>0.7</td>\n",
       "      <td>191</td>\n",
       "      <td>5</td>\n",
       "      <td>0</td>\n",
       "      <td>1088</td>\n",
       "      <td>1718</td>\n",
       "      <td>2355</td>\n",
       "      <td>17</td>\n",
       "      <td>16</td>\n",
       "      <td>2</td>\n",
       "      <td>1</td>\n",
       "      <td>1</td>\n",
       "      <td>1</td>\n",
       "    </tr>\n",
       "    <tr>\n",
       "      <th>64</th>\n",
       "      <td>871</td>\n",
       "      <td>0</td>\n",
       "      <td>0.6</td>\n",
       "      <td>0</td>\n",
       "      <td>2</td>\n",
       "      <td>0</td>\n",
       "      <td>52</td>\n",
       "      <td>0.1</td>\n",
       "      <td>178</td>\n",
       "      <td>3</td>\n",
       "      <td>3</td>\n",
       "      <td>194</td>\n",
       "      <td>1437</td>\n",
       "      <td>437</td>\n",
       "      <td>14</td>\n",
       "      <td>7</td>\n",
       "      <td>17</td>\n",
       "      <td>1</td>\n",
       "      <td>0</td>\n",
       "      <td>0</td>\n",
       "    </tr>\n",
       "    <tr>\n",
       "      <th>1070</th>\n",
       "      <td>894</td>\n",
       "      <td>0</td>\n",
       "      <td>0.9</td>\n",
       "      <td>0</td>\n",
       "      <td>5</td>\n",
       "      <td>1</td>\n",
       "      <td>54</td>\n",
       "      <td>0.2</td>\n",
       "      <td>130</td>\n",
       "      <td>3</td>\n",
       "      <td>15</td>\n",
       "      <td>104</td>\n",
       "      <td>541</td>\n",
       "      <td>2829</td>\n",
       "      <td>11</td>\n",
       "      <td>5</td>\n",
       "      <td>13</td>\n",
       "      <td>1</td>\n",
       "      <td>0</td>\n",
       "      <td>1</td>\n",
       "    </tr>\n",
       "  </tbody>\n",
       "</table>\n",
       "</div>"
      ],
      "text/plain": [
       "      battery_power  blue  clock_speed  dual_sim  fc  four_g  int_memory  \\\n",
       "1275            525     1          0.5         1   5       0          51   \n",
       "872             925     1          2.1         0   9       0          56   \n",
       "1321           1076     0          2.3         1   0       1          14   \n",
       "64              871     0          0.6         0   2       0          52   \n",
       "1070            894     0          0.9         0   5       1          54   \n",
       "\n",
       "      m_dep  mobile_wt  n_cores  pc  px_height  px_width   ram  sc_h  sc_w  \\\n",
       "1275    0.5        137        8  11        262      1587  1891    18     3   \n",
       "872     0.2        196        1  14       1262      1520  2466     8     0   \n",
       "1321    0.7        191        5   0       1088      1718  2355    17    16   \n",
       "64      0.1        178        3   3        194      1437   437    14     7   \n",
       "1070    0.2        130        3  15        104       541  2829    11     5   \n",
       "\n",
       "      talk_time  three_g  touch_screen  wifi  \n",
       "1275         12        0             1     0  \n",
       "872           5        1             0     0  \n",
       "1321          2        1             1     1  \n",
       "64           17        1             0     0  \n",
       "1070         13        1             0     1  "
      ]
     },
     "execution_count": 47,
     "metadata": {},
     "output_type": "execute_result"
    }
   ],
   "source": [
    "mobile_modelling = pd.read_csv('../Data/Data_modelling/mobile_modelling.csv')\n",
    "\n",
    "X = mobile_modelling.iloc[:, 0:-1]\n",
    "y = mobile_modelling.iloc[:, -1]\n",
    "\n",
    "X_train, X_val, y_train, y_val = train_test_split(\n",
    "    X, y, stratify=y, test_size=0.3, random_state=42\n",
    ")\n",
    "X_val, X_test, y_val, y_test = train_test_split(\n",
    "    X_val, y_val, stratify=y_val, test_size=0.3, random_state=42\n",
    ")\n",
    "\n",
    "mobile_df = pd.concat([X_train, y_train], axis=1)\n",
    "\n",
    "print(mobile_df.shape)\n",
    "\n",
    "X_train = mobile_df.iloc[:, 0:-1]\n",
    "y_train = mobile_df.iloc[:, -1]\n",
    "\n"
   ]
  },
  {
   "cell_type": "code",
   "execution_count": 46,
   "metadata": {},
   "outputs": [
    {
     "data": {
      "text/plain": [
       "1062    3579\n",
       "607     1368\n",
       "742     2278\n",
       "337     2574\n",
       "550     3169\n",
       "Name: ram, dtype: int64"
      ]
     },
     "execution_count": 46,
     "metadata": {},
     "output_type": "execute_result"
    }
   ],
   "source": [
    "# more than 0.02\n",
    "columns_to_drop_1 = ['touch_screen', 'blue', 'dual_sim', 'four_g', 'wifi', 'three_g']\n",
    "X_train_1 = X_train.drop(columns=columns_to_drop_1)\n",
    "X_val_1 = X_val.drop(columns=columns_to_drop_1)\n",
    "\n",
    "# more than 0.05\n",
    "columns_to_drop_2 = ['touch_screen', 'blue', 'dual_sim', 'four_g', 'wifi', 'three_g', 'fc', 'n_cores', 'm_dep', 'sc_h', 'clock_speed', 'sc_w', 'pc', 'talk_time', 'int_memory', 'mobile_wt']\n",
    "X_train_2 = X_train.drop(columns=columns_to_drop_2)\n",
    "X_val_2 = X_val.drop(columns=columns_to_drop_2)\n",
    "\n",
    "# just RAM\n",
    "X_train_3 = X_train['ram']\n",
    "X_val_3 = X_val['ram']\n"
   ]
  },
  {
   "cell_type": "markdown",
   "metadata": {},
   "source": [
    "# dummy"
   ]
  },
  {
   "cell_type": "code",
   "execution_count": 23,
   "metadata": {},
   "outputs": [
    {
     "name": "stdout",
     "output_type": "stream",
     "text": [
      "most_frequent:\n",
      "              precision    recall  f1-score   support\n",
      "\n",
      "           0       0.27      0.27      0.27        73\n",
      "           1       0.23      0.22      0.22        74\n",
      "           2       0.26      0.29      0.27        73\n",
      "           3       0.26      0.24      0.25        74\n",
      "\n",
      "    accuracy                           0.26       294\n",
      "   macro avg       0.25      0.26      0.25       294\n",
      "weighted avg       0.25      0.26      0.25       294\n",
      "\n",
      "stratified:\n",
      "              precision    recall  f1-score   support\n",
      "\n",
      "           0       0.25      0.26      0.26        73\n",
      "           1       0.31      0.30      0.30        74\n",
      "           2       0.30      0.32      0.31        73\n",
      "           3       0.31      0.30      0.31        74\n",
      "\n",
      "    accuracy                           0.29       294\n",
      "   macro avg       0.29      0.29      0.29       294\n",
      "weighted avg       0.29      0.29      0.29       294\n",
      "\n"
     ]
    }
   ],
   "source": [
    "from sklearn.dummy import DummyClassifier\n",
    "from sklearn.metrics import classification_report\n",
    "\n",
    "dc = DummyClassifier(strategy='uniform')\n",
    "dc.fit(X_train,y_train)\n",
    "y_pred = dc.predict(X_val)\n",
    "print('most_frequent:')\n",
    "print(classification_report(y_val, y_pred))\n",
    "\n",
    "dc = DummyClassifier(strategy='stratified')\n",
    "dc.fit(X_train,y_train)\n",
    "y_pred = dc.predict(X_val)\n",
    "print('stratified:')\n",
    "print(classification_report(y_val, y_pred))"
   ]
  },
  {
   "cell_type": "markdown",
   "metadata": {},
   "source": [
    "# logistic regression"
   ]
  },
  {
   "cell_type": "code",
   "execution_count": 41,
   "metadata": {},
   "outputs": [
    {
     "name": "stdout",
     "output_type": "stream",
     "text": [
      "              precision    recall  f1-score   support\n",
      "\n",
      "           0       0.18      0.16      0.17        73\n",
      "           1       0.21      0.22      0.21        74\n",
      "           2       0.28      0.30      0.29        73\n",
      "           3       0.27      0.26      0.26        74\n",
      "\n",
      "    accuracy                           0.23       294\n",
      "   macro avg       0.23      0.23      0.23       294\n",
      "weighted avg       0.23      0.23      0.23       294\n",
      "\n"
     ]
    }
   ],
   "source": [
    "# Create one-vs-rest logistic regression instance\n",
    "from sklearn.linear_model import LogisticRegression\n",
    "\n",
    "model = LogisticRegression(multi_class=\"ovr\")\n",
    "\n",
    "# Train the model\n",
    "model.fit(X_train, y_train)\n",
    "y_pred = dc.predict(X_val)\n",
    "\n",
    "print(classification_report(y_val, y_pred))"
   ]
  },
  {
   "cell_type": "code",
   "execution_count": 43,
   "metadata": {},
   "outputs": [
    {
     "name": "stdout",
     "output_type": "stream",
     "text": [
      "              precision    recall  f1-score   support\n",
      "\n",
      "           0       0.26      0.29      0.27        73\n",
      "           1       0.26      0.20      0.23        74\n",
      "           2       0.26      0.26      0.26        73\n",
      "           3       0.28      0.31      0.30        74\n",
      "\n",
      "    accuracy                           0.27       294\n",
      "   macro avg       0.26      0.27      0.26       294\n",
      "weighted avg       0.26      0.27      0.26       294\n",
      "\n"
     ]
    }
   ],
   "source": [
    "model = LogisticRegression(multi_class=\"ovr\")\n",
    "\n",
    "# Train the model\n",
    "model.fit(X_train_1, y_train)\n",
    "y_pred_1 = dc.predict(X_val_1)\n",
    "\n",
    "print(classification_report(y_val, y_pred_1))"
   ]
  },
  {
   "cell_type": "code",
   "execution_count": 44,
   "metadata": {},
   "outputs": [
    {
     "name": "stdout",
     "output_type": "stream",
     "text": [
      "              precision    recall  f1-score   support\n",
      "\n",
      "           0       0.21      0.22      0.21        73\n",
      "           1       0.31      0.30      0.30        74\n",
      "           2       0.30      0.30      0.30        73\n",
      "           3       0.17      0.16      0.16        74\n",
      "\n",
      "    accuracy                           0.24       294\n",
      "   macro avg       0.25      0.25      0.25       294\n",
      "weighted avg       0.25      0.24      0.25       294\n",
      "\n"
     ]
    }
   ],
   "source": [
    "model = LogisticRegression(multi_class=\"ovr\")\n",
    "\n",
    "# Train the model\n",
    "model.fit(X_train_2, y_train)\n",
    "y_pred_2 = dc.predict(X_val_2)\n",
    "\n",
    "print(classification_report(y_val, y_pred_2))"
   ]
  },
  {
   "cell_type": "code",
   "execution_count": 49,
   "metadata": {},
   "outputs": [
    {
     "name": "stdout",
     "output_type": "stream",
     "text": [
      "              precision    recall  f1-score   support\n",
      "\n",
      "           0       0.30      0.32      0.31        73\n",
      "           1       0.24      0.23      0.23        74\n",
      "           2       0.31      0.29      0.30        73\n",
      "           3       0.26      0.27      0.26        74\n",
      "\n",
      "    accuracy                           0.28       294\n",
      "   macro avg       0.28      0.28      0.28       294\n",
      "weighted avg       0.28      0.28      0.28       294\n",
      "\n"
     ]
    }
   ],
   "source": [
    "model = LogisticRegression(multi_class=\"ovr\")\n",
    "\n",
    "# Train the model\n",
    "model.fit( X_train_3.values.reshape(-1, 1), y_train)\n",
    "y_pred_3 = dc.predict(X_val_3)\n",
    "\n",
    "print(classification_report(y_val, y_pred_3))"
   ]
  },
  {
   "cell_type": "markdown",
   "metadata": {},
   "source": [
    "# decision tree"
   ]
  },
  {
   "cell_type": "code",
   "execution_count": 51,
   "metadata": {},
   "outputs": [
    {
     "name": "stdout",
     "output_type": "stream",
     "text": [
      "              precision    recall  f1-score   support\n",
      "\n",
      "           0       0.95      0.86      0.91        73\n",
      "           1       0.70      0.80      0.75        74\n",
      "           2       0.74      0.73      0.73        73\n",
      "           3       0.90      0.88      0.89        74\n",
      "\n",
      "    accuracy                           0.82       294\n",
      "   macro avg       0.82      0.82      0.82       294\n",
      "weighted avg       0.82      0.82      0.82       294\n",
      "\n"
     ]
    }
   ],
   "source": [
    "# all\n",
    "from sklearn.tree import DecisionTreeClassifier,plot_tree #export_graphviz\n",
    "\n",
    "tree = DecisionTreeClassifier()\n",
    "tree.fit(X_train,y_train)\n",
    "y_pred = tree.predict(X_val)\n",
    "print(classification_report(y_val, y_pred))"
   ]
  },
  {
   "cell_type": "code",
   "execution_count": 52,
   "metadata": {},
   "outputs": [
    {
     "name": "stdout",
     "output_type": "stream",
     "text": [
      "              precision    recall  f1-score   support\n",
      "\n",
      "           0       0.94      0.85      0.89        73\n",
      "           1       0.70      0.80      0.75        74\n",
      "           2       0.74      0.71      0.73        73\n",
      "           3       0.89      0.89      0.89        74\n",
      "\n",
      "    accuracy                           0.81       294\n",
      "   macro avg       0.82      0.81      0.81       294\n",
      "weighted avg       0.82      0.81      0.81       294\n",
      "\n"
     ]
    }
   ],
   "source": [
    "# over 0.02\n",
    "tree = DecisionTreeClassifier()\n",
    "tree.fit(X_train_1,y_train)\n",
    "y_pred_1= tree.predict(X_val_1)\n",
    "print(classification_report(y_val, y_pred_1))"
   ]
  },
  {
   "cell_type": "code",
   "execution_count": 53,
   "metadata": {},
   "outputs": [
    {
     "name": "stdout",
     "output_type": "stream",
     "text": [
      "              precision    recall  f1-score   support\n",
      "\n",
      "           0       0.97      0.90      0.94        73\n",
      "           1       0.80      0.86      0.83        74\n",
      "           2       0.77      0.78      0.78        73\n",
      "           3       0.90      0.88      0.89        74\n",
      "\n",
      "    accuracy                           0.86       294\n",
      "   macro avg       0.86      0.86      0.86       294\n",
      "weighted avg       0.86      0.86      0.86       294\n",
      "\n"
     ]
    }
   ],
   "source": [
    "# over 0.05\n",
    "tree = DecisionTreeClassifier()\n",
    "tree.fit(X_train_2,y_train)\n",
    "y_pred_2= tree.predict(X_val_2)\n",
    "print(classification_report(y_val, y_pred_2))"
   ]
  },
  {
   "cell_type": "code",
   "execution_count": 57,
   "metadata": {},
   "outputs": [
    {
     "name": "stdout",
     "output_type": "stream",
     "text": [
      "              precision    recall  f1-score   support\n",
      "\n",
      "           0       0.78      0.82      0.80        73\n",
      "           1       0.60      0.64      0.62        74\n",
      "           2       0.52      0.49      0.51        73\n",
      "           3       0.74      0.70      0.72        74\n",
      "\n",
      "    accuracy                           0.66       294\n",
      "   macro avg       0.66      0.66      0.66       294\n",
      "weighted avg       0.66      0.66      0.66       294\n",
      "\n"
     ]
    }
   ],
   "source": [
    "# just ram\n",
    "# over 0.02\n",
    "tree = DecisionTreeClassifier()\n",
    "tree.fit(X_train_3.values.reshape(-1, 1), y_train)\n",
    "y_pred_3= tree.predict(X_val_3.values.reshape(-1, 1))\n",
    "print(classification_report(y_val, y_pred_3))"
   ]
  },
  {
   "cell_type": "markdown",
   "metadata": {},
   "source": [
    "# SVM"
   ]
  },
  {
   "cell_type": "code",
   "execution_count": 58,
   "metadata": {},
   "outputs": [
    {
     "name": "stdout",
     "output_type": "stream",
     "text": [
      "              precision    recall  f1-score   support\n",
      "\n",
      "           0       0.99      0.96      0.97        73\n",
      "           1       0.89      0.95      0.92        74\n",
      "           2       0.94      0.88      0.91        73\n",
      "           3       0.96      0.99      0.97        74\n",
      "\n",
      "    accuracy                           0.94       294\n",
      "   macro avg       0.94      0.94      0.94       294\n",
      "weighted avg       0.94      0.94      0.94       294\n",
      "\n"
     ]
    }
   ],
   "source": [
    "from sklearn.svm import SVC\n",
    "svm = SVC()\n",
    "\n",
    "# all\n",
    "svm.fit(X_train,y_train)\n",
    "y_pred = svm.predict(X_val)\n",
    "print(classification_report(y_val, y_pred))"
   ]
  },
  {
   "cell_type": "code",
   "execution_count": 59,
   "metadata": {},
   "outputs": [
    {
     "name": "stdout",
     "output_type": "stream",
     "text": [
      "              precision    recall  f1-score   support\n",
      "\n",
      "           0       0.99      0.96      0.97        73\n",
      "           1       0.89      0.95      0.92        74\n",
      "           2       0.94      0.88      0.91        73\n",
      "           3       0.96      0.99      0.97        74\n",
      "\n",
      "    accuracy                           0.94       294\n",
      "   macro avg       0.94      0.94      0.94       294\n",
      "weighted avg       0.94      0.94      0.94       294\n",
      "\n"
     ]
    }
   ],
   "source": [
    "# over 0.02\n",
    "svm.fit(X_train_1,y_train)\n",
    "y_pred = svm.predict(X_val_1)\n",
    "print(classification_report(y_val, y_pred))"
   ]
  },
  {
   "cell_type": "code",
   "execution_count": 60,
   "metadata": {},
   "outputs": [
    {
     "name": "stdout",
     "output_type": "stream",
     "text": [
      "              precision    recall  f1-score   support\n",
      "\n",
      "           0       1.00      0.97      0.99        73\n",
      "           1       0.94      0.97      0.95        74\n",
      "           2       0.94      0.92      0.93        73\n",
      "           3       0.96      0.97      0.97        74\n",
      "\n",
      "    accuracy                           0.96       294\n",
      "   macro avg       0.96      0.96      0.96       294\n",
      "weighted avg       0.96      0.96      0.96       294\n",
      "\n"
     ]
    }
   ],
   "source": [
    "# over 0.05\n",
    "svm.fit(X_train_2,y_train)\n",
    "y_pred = svm.predict(X_val_2)\n",
    "print(classification_report(y_val, y_pred))"
   ]
  },
  {
   "cell_type": "code",
   "execution_count": 61,
   "metadata": {},
   "outputs": [
    {
     "name": "stdout",
     "output_type": "stream",
     "text": [
      "              precision    recall  f1-score   support\n",
      "\n",
      "           0       0.91      0.79      0.85        73\n",
      "           1       0.63      0.73      0.68        74\n",
      "           2       0.61      0.63      0.62        73\n",
      "           3       0.86      0.80      0.83        74\n",
      "\n",
      "    accuracy                           0.74       294\n",
      "   macro avg       0.75      0.74      0.74       294\n",
      "weighted avg       0.75      0.74      0.74       294\n",
      "\n"
     ]
    }
   ],
   "source": [
    "# just ram\n",
    "svm.fit(X_train_3.values.reshape(-1, 1),y_train)\n",
    "y_pred = svm.predict(X_val_3.values.reshape(-1, 1))\n",
    "print(classification_report(y_val, y_pred))"
   ]
  }
 ],
 "metadata": {
  "kernelspec": {
   "display_name": "base",
   "language": "python",
   "name": "python3"
  },
  "language_info": {
   "codemirror_mode": {
    "name": "ipython",
    "version": 3
   },
   "file_extension": ".py",
   "mimetype": "text/x-python",
   "name": "python",
   "nbconvert_exporter": "python",
   "pygments_lexer": "ipython3",
   "version": "3.9.13"
  }
 },
 "nbformat": 4,
 "nbformat_minor": 2
}
