{
 "cells": [
  {
   "cell_type": "code",
   "execution_count": 1,
   "metadata": {},
   "outputs": [
    {
     "name": "stderr",
     "output_type": "stream",
     "text": [
      "C:\\Users\\natal\\AppData\\Local\\Temp\\ipykernel_15944\\729211821.py:1: DeprecationWarning: \n",
      "Pyarrow will become a required dependency of pandas in the next major release of pandas (pandas 3.0),\n",
      "(to allow more performant data types, such as the Arrow string type, and better interoperability with other libraries)\n",
      "but was not found to be installed on your system.\n",
      "If this would cause problems for you,\n",
      "please provide us feedback at https://github.com/pandas-dev/pandas/issues/54466\n",
      "        \n",
      "  import pandas as pd\n"
     ]
    }
   ],
   "source": [
    "import pandas as pd\n",
    "import numpy as np\n",
    "import sklearn \n",
    "import seaborn as sns\n",
    "import matplotlib.pyplot as plt\n",
    "import warnings\n",
    "from sklearn.model_selection import train_test_split\n",
    "warnings.filterwarnings('ignore')\n",
    "np.random.seed(23)\n",
    "pd.set_option('display.max_columns', None)"
   ]
  },
  {
   "cell_type": "code",
   "execution_count": 2,
   "metadata": {},
   "outputs": [
    {
     "name": "stdout",
     "output_type": "stream",
     "text": [
      "(980, 21)\n"
     ]
    }
   ],
   "source": [
    "mobile_modelling = pd.read_csv('../Data/Data_modelling/mobile_modelling.csv')\n",
    "\n",
    "X = mobile_modelling.iloc[:, 0:-1]\n",
    "y = mobile_modelling.iloc[:, -1]\n",
    "\n",
    "X_train, X_val, y_train, y_val = train_test_split(\n",
    "    X, y, stratify=y, test_size=0.3, random_state=42\n",
    ")\n",
    "X_val, X_test, y_val, y_test = train_test_split(\n",
    "    X_val, y_val, stratify=y_val, test_size=0.3, random_state=42\n",
    ")\n",
    "\n",
    "mobile_df = pd.concat([X_train, y_train], axis=1)\n",
    "\n",
    "print(mobile_df.shape)\n",
    "\n",
    "X_train = mobile_df.iloc[:, 0:-1]\n",
    "y_train = mobile_df.iloc[:, -1]"
   ]
  },
  {
   "cell_type": "markdown",
   "metadata": {},
   "source": [
    "We'll analyse some of the models with using 2 types of dataset transformations:\n",
    "- Standarisation\n",
    "- Box Cox transformation"
   ]
  },
  {
   "cell_type": "markdown",
   "metadata": {},
   "source": [
    "### Standarisation"
   ]
  },
  {
   "cell_type": "code",
   "execution_count": 11,
   "metadata": {},
   "outputs": [],
   "source": [
    "from sklearn.preprocessing import StandardScaler\n",
    "\n",
    "scaler = StandardScaler()\n",
    "X_train_scaled = scaler.fit_transform(X_train)\n",
    "X_val_scaled = scaler.fit_transform(X_val)\n",
    "\n",
    "X_train_scaled = pd.DataFrame(X_train_scaled, columns=X_train.columns)\n",
    "X_val_scaled = pd.DataFrame(X_val_scaled, columns=X_val.columns)"
   ]
  },
  {
   "cell_type": "code",
   "execution_count": 12,
   "metadata": {},
   "outputs": [],
   "source": [
    "# more than 0.02\n",
    "columns_to_drop_1 = ['touch_screen', 'blue', 'dual_sim', 'four_g', 'wifi', 'three_g']\n",
    "X_train_1 = X_train_scaled.drop(columns=columns_to_drop_1)\n",
    "X_val_1 = X_val_scaled.drop(columns=columns_to_drop_1)\n",
    "\n",
    "# more than 0.05\n",
    "columns_to_drop_2 = ['touch_screen', 'blue', 'dual_sim', 'four_g', 'wifi', 'three_g', 'fc', 'n_cores', 'm_dep', 'sc_h', 'clock_speed', 'sc_w', 'pc', 'talk_time', 'int_memory', 'mobile_wt']\n",
    "X_train_2 = X_train_scaled.drop(columns=columns_to_drop_2)\n",
    "X_val_2 = X_val_scaled.drop(columns=columns_to_drop_2)\n",
    "\n",
    "# just RAM\n",
    "X_train_3 = X_train_scaled['ram']\n",
    "X_val_3 = X_val_scaled['ram']"
   ]
  },
  {
   "cell_type": "code",
   "execution_count": 14,
   "metadata": {},
   "outputs": [],
   "source": [
    "from sklearn.metrics import classification_report"
   ]
  },
  {
   "cell_type": "markdown",
   "metadata": {},
   "source": [
    "### decision tree"
   ]
  },
  {
   "cell_type": "code",
   "execution_count": 15,
   "metadata": {},
   "outputs": [
    {
     "name": "stdout",
     "output_type": "stream",
     "text": [
      "for all the columns\n",
      "              precision    recall  f1-score   support\n",
      "\n",
      "           0       0.95      0.85      0.90        73\n",
      "           1       0.69      0.80      0.74        74\n",
      "           2       0.73      0.71      0.72        73\n",
      "           3       0.89      0.88      0.88        74\n",
      "\n",
      "    accuracy                           0.81       294\n",
      "   macro avg       0.82      0.81      0.81       294\n",
      "weighted avg       0.82      0.81      0.81       294\n",
      "\n",
      "for columns with importance over 0.02\n",
      "              precision    recall  f1-score   support\n",
      "\n",
      "           0       0.86      0.93      0.89        73\n",
      "           1       0.75      0.69      0.72        74\n",
      "           2       0.74      0.75      0.75        73\n",
      "           3       0.90      0.89      0.90        74\n",
      "\n",
      "    accuracy                           0.82       294\n",
      "   macro avg       0.81      0.82      0.81       294\n",
      "weighted avg       0.81      0.82      0.81       294\n",
      "\n",
      "for columns with importance over 0.05\n",
      "              precision    recall  f1-score   support\n",
      "\n",
      "           0       0.92      0.97      0.95        73\n",
      "           1       0.84      0.84      0.84        74\n",
      "           2       0.79      0.75      0.77        73\n",
      "           3       0.89      0.88      0.88        74\n",
      "\n",
      "    accuracy                           0.86       294\n",
      "   macro avg       0.86      0.86      0.86       294\n",
      "weighted avg       0.86      0.86      0.86       294\n",
      "\n",
      "for RAM only\n",
      "              precision    recall  f1-score   support\n",
      "\n",
      "           0       0.75      0.75      0.75        73\n",
      "           1       0.51      0.55      0.53        74\n",
      "           2       0.44      0.44      0.44        73\n",
      "           3       0.72      0.66      0.69        74\n",
      "\n",
      "    accuracy                           0.60       294\n",
      "   macro avg       0.61      0.60      0.60       294\n",
      "weighted avg       0.61      0.60      0.60       294\n",
      "\n"
     ]
    }
   ],
   "source": [
    "from sklearn.tree import DecisionTreeClassifier,plot_tree\n",
    "\n",
    "print(\"for all the columns\")\n",
    "tree = DecisionTreeClassifier()\n",
    "tree.fit(X_train,y_train)\n",
    "y_pred = tree.predict(X_val)\n",
    "print(classification_report(y_val, y_pred))\n",
    "\n",
    "\n",
    "print(\"for columns with importance over 0.02\")\n",
    "tree = DecisionTreeClassifier()\n",
    "tree.fit(X_train_1,y_train)\n",
    "y_pred_1= tree.predict(X_val_1)\n",
    "print(classification_report(y_val, y_pred_1))\n",
    "\n",
    "\n",
    "print(\"for columns with importance over 0.05\")\n",
    "tree = DecisionTreeClassifier()\n",
    "tree.fit(X_train_2,y_train)\n",
    "y_pred_2= tree.predict(X_val_2)\n",
    "print(classification_report(y_val, y_pred_2))\n",
    "\n",
    "\n",
    "print(\"for RAM only\")\n",
    "tree = DecisionTreeClassifier()\n",
    "tree.fit(X_train_3.values.reshape(-1, 1), y_train)\n",
    "y_pred_3= tree.predict(X_val_3.values.reshape(-1, 1))\n",
    "print(classification_report(y_val, y_pred_3))"
   ]
  }
 ],
 "metadata": {
  "kernelspec": {
   "display_name": "Python 3",
   "language": "python",
   "name": "python3"
  },
  "language_info": {
   "codemirror_mode": {
    "name": "ipython",
    "version": 3
   },
   "file_extension": ".py",
   "mimetype": "text/x-python",
   "name": "python",
   "nbconvert_exporter": "python",
   "pygments_lexer": "ipython3",
   "version": "3.12.2"
  }
 },
 "nbformat": 4,
 "nbformat_minor": 2
}
