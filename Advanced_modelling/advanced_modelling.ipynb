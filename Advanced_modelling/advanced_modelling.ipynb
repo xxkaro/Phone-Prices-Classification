{
 "cells": [
  {
   "cell_type": "markdown",
   "metadata": {},
   "source": [
    "TODO\n",
    "- crosswalidacja\n",
    "- ensemble methods - wybrać - łatwiejsze modele\n",
    "    - xgboost\n",
    "- wizualizacja drzewa decyzyjnego\n",
    "- sprawdzić model KNeighborsClassifier\n",
    "- extract trees"
   ]
  },
  {
   "cell_type": "markdown",
   "metadata": {},
   "source": [
    "# 1. Ensemble methods"
   ]
  },
  {
   "cell_type": "markdown",
   "metadata": {},
   "source": [
    "3 metody:\n",
    "- stacking\n",
    "    na początku z równymi wagami, potem zwiększamy wagę SVM (testujemy ze 3 kombinacje)\n",
    "    robimy też oddzielnie hard voting i soft voting\n",
    "    przetestujemy na 3 modelach:\n",
    "    - Decision Tree\n",
    "    - SVM\n",
    "    - Random Forest Classifier\n",
    "- bagging - random forest + coś jeszcze\n",
    "- boosting - XGBoost, catboost"
   ]
  },
  {
   "cell_type": "markdown",
   "metadata": {},
   "source": [
    "# 2. Strojenie parametrów"
   ]
  },
  {
   "cell_type": "markdown",
   "metadata": {},
   "source": [
    "- kroswalidacja\n",
    "- grid search??? albo random search\n",
    "- wykresy\n",
    "- Bayes optimization\n",
    "- 2 metody autoML - TPOT i H20\n",
    "- XAI - PDP, LIME\n"
   ]
  },
  {
   "cell_type": "markdown",
   "metadata": {},
   "source": [
    "##### Random Forest Classifier:\n",
    "- n_estimators: liczba drzew w lesie.\n",
    "- max_depth: maksymalna głębokość drzewa.\n",
    "- min_samples_split: minimalna liczba próbek wymagana do podziału węzła.\n",
    "- min_samples_leaf: minimalna liczba próbek wymagana w liściu węzła.\n",
    "- max_features: liczba cech do uwzględnienia podczas poszukiwania najlepszego podziału.\n",
    "\n",
    "##### Support Vector Machine (SVM):\n",
    "- C: parametr regularyzacji, kontrolujący kompromis między dopasowaniem do danych treningowych a ogólnością modelu.\n",
    "- kernel: rodzaj używanego jądra (np. liniowe, wielomianowe, radialne).\n",
    "- gamma: parametr jądra (dla jądra RBF).\n",
    "\n",
    "##### Decision Tree:\n",
    "- max_depth: maksymalna głębokość drzewa.\n",
    "- min_samples_split: minimalna liczba próbek wymagana do podziału węzła.\n",
    "- min_samples_leaf: minimalna liczba próbek wymagana w liściu węzła.\n",
    "- max_features: liczba cech do uwzględnienia podczas poszukiwania najlepszego podziału."
   ]
  }
 ],
 "metadata": {
  "language_info": {
   "name": "python"
  }
 },
 "nbformat": 4,
 "nbformat_minor": 2
}
